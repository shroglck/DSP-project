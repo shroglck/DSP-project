{
  "nbformat": 4,
  "nbformat_minor": 0,
  "metadata": {
    "colab": {
      "name": "Resnet.ipynb",
      "provenance": [],
      "collapsed_sections": [],
      "authorship_tag": "ABX9TyMCW5+mmm4SV3XZvdi3Kbek",
      "include_colab_link": true
    },
    "kernelspec": {
      "name": "python3",
      "display_name": "Python 3"
    },
    "language_info": {
      "name": "python"
    },
    "accelerator": "GPU"
  },
  "cells": [
    {
      "cell_type": "markdown",
      "metadata": {
        "id": "view-in-github",
        "colab_type": "text"
      },
      "source": [
        "<a href=\"https://colab.research.google.com/github/shroglck/DSP-project/blob/main/Resnet.ipynb\" target=\"_parent\"><img src=\"https://colab.research.google.com/assets/colab-badge.svg\" alt=\"Open In Colab\"/></a>"
      ]
    },
    {
      "cell_type": "code",
      "execution_count": null,
      "metadata": {
        "id": "j_X7t-CjjS-C"
      },
      "outputs": [],
      "source": [
        "import tensorflow as tf\n",
        "from keras.datasets import cifar10\n",
        "import os, re, time, json\n",
        "import PIL.Image, PIL.ImageFont, PIL.ImageDraw\n",
        "import numpy as np\n",
        "from tensorflow.keras.applications.resnet50 import ResNet50\n",
        "from matplotlib import pyplot as plt"
      ]
    },
    {
      "cell_type": "code",
      "source": [
        "(X_train,Y_train),(X_test,Y_test)=cifar10.load_data()"
      ],
      "metadata": {
        "colab": {
          "base_uri": "https://localhost:8080/"
        },
        "id": "cULTvVF9kHp3",
        "outputId": "49d151a7-3e88-4ef3-e49a-188f4ed0f1c3"
      },
      "execution_count": null,
      "outputs": [
        {
          "output_type": "stream",
          "name": "stdout",
          "text": [
            "Downloading data from https://www.cs.toronto.edu/~kriz/cifar-10-python.tar.gz\n",
            "170500096/170498071 [==============================] - 2s 0us/step\n",
            "170508288/170498071 [==============================] - 2s 0us/step\n"
          ]
        }
      ]
    },
    {
      "cell_type": "code",
      "source": [
        "X_train=X_train.astype(\"float32\")\n",
        "X_test=X_test.astype(\"float32\")\n"
      ],
      "metadata": {
        "id": "cVu8IBWKknHb"
      },
      "execution_count": null,
      "outputs": []
    },
    {
      "cell_type": "code",
      "source": [
        "X_train=tf.keras.applications.resnet50.preprocess_input(X_train)\n",
        "X_test=tf.keras.applications.resnet50.preprocess_input(X_test)"
      ],
      "metadata": {
        "id": "aPV69dY7lOvT"
      },
      "execution_count": null,
      "outputs": []
    },
    {
      "cell_type": "code",
      "source": [
        "def feature_extraction(inputs):\n",
        "  feature_extractor = tf.keras.applications.resnet.ResNet50(input_shape=(224, 224, 3),\n",
        "                                               include_top=False,\n",
        "                                               weights='imagenet')(inputs)\n",
        "  return feature_extractor"
      ],
      "metadata": {
        "id": "Mi9R2KbUnv1I"
      },
      "execution_count": null,
      "outputs": []
    },
    {
      "cell_type": "code",
      "source": [
        "def classifier(inputs):\n",
        "  x=tf.keras.layers.GlobalAveragePooling2D()(inputs)\n",
        "  x = tf.keras.layers.Flatten()(x)\n",
        "  x=tf.keras.layers.Dense(1024,activation='relu')(x)\n",
        "  x=tf.keras.layers.Dense(512,activation='relu')(x)\n",
        "  x=tf.keras.layers.Dense(10,activation='softmax',name=\"classification\")(x)\n",
        "  return x\n",
        "  "
      ],
      "metadata": {
        "id": "rK3OHHxWophV"
      },
      "execution_count": null,
      "outputs": []
    },
    {
      "cell_type": "code",
      "source": [
        "def final_model(inputs):\n",
        "\n",
        "    inputs = tf.keras.layers.AveragePooling2D(2)(inputs)\n",
        "    resize = tf.keras.layers.UpSampling2D(size=(14,14))(inputs)\n",
        "\n",
        "    resnet_feature_extractor = feature_extraction(resize)\n",
        "    classification_output = classifier(resnet_feature_extractor)\n",
        "\n",
        "    return classification_output"
      ],
      "metadata": {
        "id": "3EaSq5FWpden"
      },
      "execution_count": null,
      "outputs": []
    },
    {
      "cell_type": "code",
      "source": [
        "def model_compile():\n",
        "  inputs = tf.keras.layers.Input(shape=(32,32,3))\n",
        "  classification_output=final_model(inputs)\n",
        "  model = tf.keras.Model(inputs=inputs,outputs=classification_output)\n",
        "  model.compile(optimizer='SGD', \n",
        "                loss='sparse_categorical_crossentropy',\n",
        "                metrics = ['accuracy'])\n",
        "  \n",
        "  return model\n",
        "\n"
      ],
      "metadata": {
        "id": "8jNCwMmtpus0"
      },
      "execution_count": null,
      "outputs": []
    },
    {
      "cell_type": "code",
      "source": [
        "model = model_compile()\n",
        "\n",
        "model.summary()"
      ],
      "metadata": {
        "colab": {
          "base_uri": "https://localhost:8080/"
        },
        "id": "dS3uT__uqRhW",
        "outputId": "7a4d78bb-deac-4a80-ffc9-48fe5de5c6bc"
      },
      "execution_count": null,
      "outputs": [
        {
          "output_type": "stream",
          "name": "stdout",
          "text": [
            "Downloading data from https://storage.googleapis.com/tensorflow/keras-applications/resnet/resnet50_weights_tf_dim_ordering_tf_kernels_notop.h5\n",
            "94773248/94765736 [==============================] - 2s 0us/step\n",
            "94781440/94765736 [==============================] - 2s 0us/step\n",
            "Model: \"model\"\n",
            "_________________________________________________________________\n",
            " Layer (type)                Output Shape              Param #   \n",
            "=================================================================\n",
            " input_1 (InputLayer)        [(None, 32, 32, 3)]       0         \n",
            "                                                                 \n",
            " up_sampling2d (UpSampling2D  (None, 224, 224, 3)      0         \n",
            " )                                                               \n",
            "                                                                 \n",
            " resnet50 (Functional)       (None, 7, 7, 2048)        23587712  \n",
            "                                                                 \n",
            " global_average_pooling2d (G  (None, 2048)             0         \n",
            " lobalAveragePooling2D)                                          \n",
            "                                                                 \n",
            " flatten (Flatten)           (None, 2048)              0         \n",
            "                                                                 \n",
            " dense (Dense)               (None, 1024)              2098176   \n",
            "                                                                 \n",
            " dense_1 (Dense)             (None, 512)               524800    \n",
            "                                                                 \n",
            " classification (Dense)      (None, 10)                5130      \n",
            "                                                                 \n",
            "=================================================================\n",
            "Total params: 26,215,818\n",
            "Trainable params: 26,162,698\n",
            "Non-trainable params: 53,120\n",
            "_________________________________________________________________\n"
          ]
        }
      ]
    },
    {
      "cell_type": "code",
      "source": [
        "EPOCHS = 3\n",
        "history = model.fit(X_train,Y_train, epochs=EPOCHS, validation_data = (X_test, Y_test), batch_size=64)"
      ],
      "metadata": {
        "colab": {
          "base_uri": "https://localhost:8080/"
        },
        "id": "22TSQB59qdRE",
        "outputId": "4ef26564-ccd4-4f99-f7ac-f0242f4bf609"
      },
      "execution_count": null,
      "outputs": [
        {
          "output_type": "stream",
          "name": "stdout",
          "text": [
            "Epoch 1/3\n",
            "782/782 [==============================] - 1057s 1s/step - loss: 0.3997 - accuracy: 0.8699 - val_loss: 0.1960 - val_accuracy: 0.9325\n",
            "Epoch 2/3\n",
            "782/782 [==============================] - 1038s 1s/step - loss: 0.1028 - accuracy: 0.9655 - val_loss: 0.1899 - val_accuracy: 0.9398\n",
            "Epoch 3/3\n",
            "782/782 [==============================] - 1034s 1s/step - loss: 0.0361 - accuracy: 0.9898 - val_loss: 0.1619 - val_accuracy: 0.9512\n"
          ]
        }
      ]
    },
    {
      "cell_type": "code",
      "source": [
        "loss, accuracy = model.evaluate(X_test,Y_test, batch_size=64)"
      ],
      "metadata": {
        "colab": {
          "base_uri": "https://localhost:8080/"
        },
        "id": "NZHT-D0irrij",
        "outputId": "1abe1dbf-0bf1-42d1-ca15-870470255338"
      },
      "execution_count": null,
      "outputs": [
        {
          "output_type": "stream",
          "name": "stdout",
          "text": [
            "157/157 [==============================] - 55s 352ms/step - loss: 0.1619 - accuracy: 0.9512\n"
          ]
        }
      ]
    },
    {
      "cell_type": "code",
      "source": [
        "def model_compile2():\n",
        "  inputs = tf.keras.layers.Input(shape=(32,32,3))\n",
        "  \n",
        "  classification_output=final_model(inputs)\n",
        "  model = tf.keras.Model(inputs=inputs,outputs=classification_output)\n",
        "  model.compile(optimizer='SGD', \n",
        "                loss='sparse_categorical_crossentropy',\n",
        "                metrics = ['accuracy'])\n",
        "  \n",
        "  return model"
      ],
      "metadata": {
        "id": "m2KfyRqdIVUB"
      },
      "execution_count": null,
      "outputs": []
    },
    {
      "cell_type": "code",
      "source": [
        "model = model_compile2()\n",
        "\n",
        "model.summary()"
      ],
      "metadata": {
        "colab": {
          "base_uri": "https://localhost:8080/"
        },
        "id": "2xPAd0PhVXHl",
        "outputId": "c9fddd00-a421-47e5-c030-bfc809af2510"
      },
      "execution_count": null,
      "outputs": [
        {
          "output_type": "stream",
          "name": "stdout",
          "text": [
            "Model: \"model_2\"\n",
            "_________________________________________________________________\n",
            " Layer (type)                Output Shape              Param #   \n",
            "=================================================================\n",
            " input_6 (InputLayer)        [(None, 32, 32, 3)]       0         \n",
            "                                                                 \n",
            " average_pooling2d_1 (Averag  (None, 16, 16, 3)        0         \n",
            " ePooling2D)                                                     \n",
            "                                                                 \n",
            " up_sampling2d_2 (UpSampling  (None, 224, 224, 3)      0         \n",
            " 2D)                                                             \n",
            "                                                                 \n",
            " resnet50 (Functional)       (None, 7, 7, 2048)        23587712  \n",
            "                                                                 \n",
            " global_average_pooling2d_2   (None, 2048)             0         \n",
            " (GlobalAveragePooling2D)                                        \n",
            "                                                                 \n",
            " flatten_2 (Flatten)         (None, 2048)              0         \n",
            "                                                                 \n",
            " dense_4 (Dense)             (None, 1024)              2098176   \n",
            "                                                                 \n",
            " dense_5 (Dense)             (None, 512)               524800    \n",
            "                                                                 \n",
            " classification (Dense)      (None, 10)                5130      \n",
            "                                                                 \n",
            "=================================================================\n",
            "Total params: 26,215,818\n",
            "Trainable params: 26,162,698\n",
            "Non-trainable params: 53,120\n",
            "_________________________________________________________________\n"
          ]
        }
      ]
    },
    {
      "cell_type": "code",
      "source": [
        "EPOCHS = 3\n",
        "history = model.fit(X_train,Y_train, epochs=EPOCHS, validation_data = (X_test, Y_test), batch_size=64)"
      ],
      "metadata": {
        "colab": {
          "base_uri": "https://localhost:8080/"
        },
        "id": "FGRLOk74VcQq",
        "outputId": "ca8315e1-72eb-4830-9f62-4188623e54db"
      },
      "execution_count": null,
      "outputs": [
        {
          "output_type": "stream",
          "name": "stdout",
          "text": [
            "Epoch 1/3\n",
            "782/782 [==============================] - 1034s 1s/step - loss: 0.7349 - accuracy: 0.7476 - val_loss: 0.5511 - val_accuracy: 0.8068\n",
            "Epoch 2/3\n",
            "782/782 [==============================] - 1055s 1s/step - loss: 0.2915 - accuracy: 0.9009 - val_loss: 0.4493 - val_accuracy: 0.8486\n",
            "Epoch 3/3\n",
            "782/782 [==============================] - 1030s 1s/step - loss: 0.1342 - accuracy: 0.9556 - val_loss: 0.4121 - val_accuracy: 0.8695\n"
          ]
        }
      ]
    },
    {
      "cell_type": "code",
      "source": [
        "from tensorflow.keras.applications.resnet import ResNet101"
      ],
      "metadata": {
        "id": "3bFYKdTEVhbZ"
      },
      "execution_count": null,
      "outputs": []
    },
    {
      "cell_type": "code",
      "source": [
        "(X_train,Y_train),(X_test,Y_test)=cifar10.load_data()"
      ],
      "metadata": {
        "id": "XtiLoBNricEC"
      },
      "execution_count": null,
      "outputs": []
    },
    {
      "cell_type": "code",
      "source": [
        "X_train=X_train.astype(\"float32\")\n",
        "X_test=X_test.astype(\"float32\")"
      ],
      "metadata": {
        "id": "ccwt6hesiwbo"
      },
      "execution_count": null,
      "outputs": []
    },
    {
      "cell_type": "code",
      "source": [
        "X_train=tf.keras.applications.resnet50.preprocess_input(X_train)\n",
        "X_test=tf.keras.applications.resnet50.preprocess_input(X_test)"
      ],
      "metadata": {
        "id": "56KsTfmSiz0v"
      },
      "execution_count": null,
      "outputs": []
    },
    {
      "cell_type": "code",
      "source": [
        "def feature_extraction(inputs):\n",
        "  feature_extractor = tf.keras.applications.resnet.ResNet101(input_shape=(224, 224, 3),\n",
        "                                               include_top=False,\n",
        "                                               weights='imagenet')(inputs)\n",
        "  return feature_extractor"
      ],
      "metadata": {
        "id": "mVjDexoFi68Z"
      },
      "execution_count": null,
      "outputs": []
    },
    {
      "cell_type": "code",
      "source": [
        "def classifier(inputs):\n",
        "  x=tf.keras.layers.GlobalAveragePooling2D()(inputs)\n",
        "  x = tf.keras.layers.Flatten()(x)\n",
        "  x=tf.keras.layers.Dense(1024,activation='relu')(x)\n",
        "  x=tf.keras.layers.Dense(512,activation='relu')(x)\n",
        "  x=tf.keras.layers.Dense(10,activation='softmax',name=\"classification\")(x)\n",
        "  return x"
      ],
      "metadata": {
        "id": "AiIdOwDkjkt_"
      },
      "execution_count": null,
      "outputs": []
    },
    {
      "cell_type": "code",
      "source": [
        "def final_model(inputs):\n",
        "\n",
        "    inputs = tf.keras.layers.AveragePooling2D(2)(inputs)\n",
        "    resize = tf.keras.layers.UpSampling2D(size=(14,14))(inputs)\n",
        "\n",
        "    resnet_feature_extractor = feature_extraction(resize)\n",
        "    classification_output = classifier(resnet_feature_extractor)\n",
        "\n",
        "    return classification_output"
      ],
      "metadata": {
        "id": "SP-NvoQxjoRu"
      },
      "execution_count": null,
      "outputs": []
    },
    {
      "cell_type": "code",
      "source": [
        "def model_compile():\n",
        "  inputs = tf.keras.layers.Input(shape=(32,32,3))\n",
        "  classification_output=final_model(inputs)\n",
        "  model = tf.keras.Model(inputs=inputs,outputs=classification_output)\n",
        "  model.compile(optimizer='SGD', \n",
        "                loss='sparse_categorical_crossentropy',\n",
        "                metrics = ['accuracy'])\n",
        "  \n",
        "  return model"
      ],
      "metadata": {
        "id": "7Z-5J3DCjtin"
      },
      "execution_count": null,
      "outputs": []
    },
    {
      "cell_type": "code",
      "source": [
        "model = model_compile()\n",
        "\n",
        "model.summary()"
      ],
      "metadata": {
        "colab": {
          "base_uri": "https://localhost:8080/"
        },
        "id": "31U_1kaDj4cr",
        "outputId": "4a18f70c-315e-4507-89ea-4ccdfda490f3"
      },
      "execution_count": null,
      "outputs": [
        {
          "output_type": "stream",
          "name": "stdout",
          "text": [
            "Model: \"model_1\"\n",
            "_________________________________________________________________\n",
            " Layer (type)                Output Shape              Param #   \n",
            "=================================================================\n",
            " input_3 (InputLayer)        [(None, 32, 32, 3)]       0         \n",
            "                                                                 \n",
            " average_pooling2d_1 (Averag  (None, 16, 16, 3)        0         \n",
            " ePooling2D)                                                     \n",
            "                                                                 \n",
            " up_sampling2d_1 (UpSampling  (None, 224, 224, 3)      0         \n",
            " 2D)                                                             \n",
            "                                                                 \n",
            " resnet101 (Functional)      (None, 7, 7, 2048)        42658176  \n",
            "                                                                 \n",
            " global_average_pooling2d_1   (None, 2048)             0         \n",
            " (GlobalAveragePooling2D)                                        \n",
            "                                                                 \n",
            " flatten_1 (Flatten)         (None, 2048)              0         \n",
            "                                                                 \n",
            " dense_2 (Dense)             (None, 1024)              2098176   \n",
            "                                                                 \n",
            " dense_3 (Dense)             (None, 512)               524800    \n",
            "                                                                 \n",
            " classification (Dense)      (None, 10)                5130      \n",
            "                                                                 \n",
            "=================================================================\n",
            "Total params: 45,286,282\n",
            "Trainable params: 45,180,938\n",
            "Non-trainable params: 105,344\n",
            "_________________________________________________________________\n"
          ]
        }
      ]
    },
    {
      "cell_type": "code",
      "source": [
        "EPOCHS = 3\n",
        "history = model.fit(X_train,Y_train, epochs=EPOCHS, validation_data = (X_test, Y_test), batch_size=64)"
      ],
      "metadata": {
        "colab": {
          "base_uri": "https://localhost:8080/"
        },
        "id": "Ou0aJIdvj9Rm",
        "outputId": "7a5b6ecf-eab0-463f-8955-966185e74d03"
      },
      "execution_count": null,
      "outputs": [
        {
          "output_type": "stream",
          "name": "stdout",
          "text": [
            "Epoch 1/3\n",
            "782/782 [==============================] - 1775s 2s/step - loss: 0.3584 - accuracy: 0.8851 - val_loss: 0.1709 - val_accuracy: 0.9403\n",
            "Epoch 2/3\n",
            "782/782 [==============================] - 1768s 2s/step - loss: 0.0731 - accuracy: 0.9763 - val_loss: 0.2327 - val_accuracy: 0.9308\n",
            "Epoch 3/3\n",
            "  4/782 [..............................] - ETA: 27:48 - loss: 0.0497 - accuracy: 0.9844"
          ]
        }
      ]
    },
    {
      "cell_type": "code",
      "source": [
        "EPOCHS = 3\n",
        "history = model.fit(X_train,Y_train, epochs=EPOCHS, validation_data = (X_test, Y_test), batch_size=64)"
      ],
      "metadata": {
        "id": "6y2TeNmCkQyk",
        "colab": {
          "base_uri": "https://localhost:8080/"
        },
        "outputId": "65bdf119-007a-45a9-ef12-0c2a24ab8b8a"
      },
      "execution_count": null,
      "outputs": [
        {
          "output_type": "stream",
          "name": "stdout",
          "text": [
            "Epoch 1/3\n",
            "782/782 [==============================] - 873s 1s/step - loss: 0.6862 - accuracy: 0.7635 - val_loss: 0.4550 - val_accuracy: 0.8419\n",
            "Epoch 2/3\n",
            "782/782 [==============================] - 858s 1s/step - loss: 0.2386 - accuracy: 0.9199 - val_loss: 0.4228 - val_accuracy: 0.8608\n",
            "Epoch 3/3\n",
            "782/782 [==============================] - 859s 1s/step - loss: 0.0913 - accuracy: 0.9711 - val_loss: 0.3223 - val_accuracy: 0.8986\n"
          ]
        }
      ]
    },
    {
      "cell_type": "code",
      "source": [
        ""
      ],
      "metadata": {
        "id": "HnCMAZb5kqms"
      },
      "execution_count": null,
      "outputs": []
    }
  ]
}