{
  "nbformat": 4,
  "nbformat_minor": 0,
  "metadata": {
    "colab": {
      "name": "Resnet.ipynb",
      "provenance": [],
      "collapsed_sections": [],
      "authorship_tag": "ABX9TyMh7NiIw3hfGxEy69n969/H",
      "include_colab_link": true
    },
    "kernelspec": {
      "name": "python3",
      "display_name": "Python 3"
    },
    "language_info": {
      "name": "python"
    },
    "accelerator": "GPU"
  },
  "cells": [
    {
      "cell_type": "markdown",
      "metadata": {
        "id": "view-in-github",
        "colab_type": "text"
      },
      "source": [
        "<a href=\"https://colab.research.google.com/github/shroglck/DSP-project/blob/main/Resnet.ipynb\" target=\"_parent\"><img src=\"https://colab.research.google.com/assets/colab-badge.svg\" alt=\"Open In Colab\"/></a>"
      ]
    },
    {
      "cell_type": "code",
      "execution_count": null,
      "metadata": {
        "id": "j_X7t-CjjS-C"
      },
      "outputs": [],
      "source": [
        "import tensorflow as tf\n",
        "from keras.datasets import cifar10\n",
        "import os, re, time, json\n",
        "import PIL.Image, PIL.ImageFont, PIL.ImageDraw\n",
        "import numpy as np\n",
        "from tensorflow.keras.applications.resnet50 import ResNet50\n",
        "from matplotlib import pyplot as plt"
      ]
    },
    {
      "cell_type": "code",
      "source": [
        "(X_train,Y_train),(X_test,Y_test)=cifar10.load_data()"
      ],
      "metadata": {
        "id": "cULTvVF9kHp3"
      },
      "execution_count": null,
      "outputs": []
    },
    {
      "cell_type": "code",
      "source": [
        "X_train=X_train.astype(\"float32\")\n",
        "X_test=X_test.astype(\"float32\")\n"
      ],
      "metadata": {
        "id": "cVu8IBWKknHb"
      },
      "execution_count": null,
      "outputs": []
    },
    {
      "cell_type": "code",
      "source": [
        "X_train=tf.keras.applications.resnet50.preprocess_input(X_train)\n",
        "X_test=tf.keras.applications.resnet50.preprocess_input(X_test)"
      ],
      "metadata": {
        "id": "aPV69dY7lOvT"
      },
      "execution_count": null,
      "outputs": []
    },
    {
      "cell_type": "code",
      "source": [
        "def feature_extraction(inputs):\n",
        "  feature_extractor = tf.keras.applications.resnet.ResNet50(input_shape=(224, 224, 3),\n",
        "                                               include_top=False,\n",
        "                                               weights='imagenet')(inputs)\n",
        "  return feature_extractor"
      ],
      "metadata": {
        "id": "Mi9R2KbUnv1I"
      },
      "execution_count": null,
      "outputs": []
    },
    {
      "cell_type": "code",
      "source": [
        "def classifier(inputs):\n",
        "  x=tf.keras.layers.GlobalAveragePooling2D()(inputs)\n",
        "  x = tf.keras.layers.Flatten()(x)\n",
        "  x=tf.keras.layers.Dense(1024,activation='relu')(x)\n",
        "  x=tf.keras.layers.Dense(512,activation='relu')(x)\n",
        "  x=tf.keras.layers.Dense(10,activation='softmax',name=\"classification\")(x)\n",
        "  return x\n",
        "  "
      ],
      "metadata": {
        "id": "rK3OHHxWophV"
      },
      "execution_count": null,
      "outputs": []
    },
    {
      "cell_type": "code",
      "source": [
        "def final_model(inputs):\n",
        "\n",
        "    inputs = tf.keras.layers.AveragePooling2D(8)(inputs)\n",
        "    resize = tf.keras.layers.UpSampling2D(size=(56,56))(inputs)\n",
        "\n",
        "    resnet_feature_extractor = feature_extraction(resize)\n",
        "    classification_output = classifier(resnet_feature_extractor)\n",
        "\n",
        "    return classification_output"
      ],
      "metadata": {
        "id": "3EaSq5FWpden"
      },
      "execution_count": null,
      "outputs": []
    },
    {
      "cell_type": "code",
      "source": [
        "def model_compile():\n",
        "  inputs = tf.keras.layers.Input(shape=(32,32,3))\n",
        "  classification_output=final_model(inputs)\n",
        "  model = tf.keras.Model(inputs=inputs,outputs=classification_output)\n",
        "  model.compile(optimizer='SGD', \n",
        "                loss='sparse_categorical_crossentropy',\n",
        "                metrics = ['accuracy'])\n",
        "  \n",
        "  return model\n",
        "\n"
      ],
      "metadata": {
        "id": "8jNCwMmtpus0"
      },
      "execution_count": null,
      "outputs": []
    },
    {
      "cell_type": "code",
      "source": [
        "model = model_compile()\n",
        "\n",
        "model.summary()"
      ],
      "metadata": {
        "colab": {
          "base_uri": "https://localhost:8080/"
        },
        "id": "dS3uT__uqRhW",
        "outputId": "f654c70b-ff82-415c-b355-f5aa5b3dcb71"
      },
      "execution_count": null,
      "outputs": [
        {
          "output_type": "stream",
          "name": "stdout",
          "text": [
            "Model: \"model_3\"\n",
            "_________________________________________________________________\n",
            " Layer (type)                Output Shape              Param #   \n",
            "=================================================================\n",
            " input_7 (InputLayer)        [(None, 32, 32, 3)]       0         \n",
            "                                                                 \n",
            " average_pooling2d_3 (Averag  (None, 4, 4, 3)          0         \n",
            " ePooling2D)                                                     \n",
            "                                                                 \n",
            " up_sampling2d_3 (UpSampling  (None, 224, 224, 3)      0         \n",
            " 2D)                                                             \n",
            "                                                                 \n",
            " resnet50 (Functional)       (None, 7, 7, 2048)        23587712  \n",
            "                                                                 \n",
            " global_average_pooling2d_3   (None, 2048)             0         \n",
            " (GlobalAveragePooling2D)                                        \n",
            "                                                                 \n",
            " flatten_3 (Flatten)         (None, 2048)              0         \n",
            "                                                                 \n",
            " dense_6 (Dense)             (None, 1024)              2098176   \n",
            "                                                                 \n",
            " dense_7 (Dense)             (None, 512)               524800    \n",
            "                                                                 \n",
            " classification (Dense)      (None, 10)                5130      \n",
            "                                                                 \n",
            "=================================================================\n",
            "Total params: 26,215,818\n",
            "Trainable params: 26,162,698\n",
            "Non-trainable params: 53,120\n",
            "_________________________________________________________________\n"
          ]
        }
      ]
    },
    {
      "cell_type": "markdown",
      "source": [
        "Resolution 1x"
      ],
      "metadata": {
        "id": "aTId3OUiBtXQ"
      }
    },
    {
      "cell_type": "code",
      "source": [
        "EPOCHS = 3\n",
        "history = model.fit(X_train,Y_train, epochs=EPOCHS, validation_data = (X_test, Y_test), batch_size=64)"
      ],
      "metadata": {
        "colab": {
          "base_uri": "https://localhost:8080/"
        },
        "id": "22TSQB59qdRE",
        "outputId": "4ef26564-ccd4-4f99-f7ac-f0242f4bf609"
      },
      "execution_count": null,
      "outputs": [
        {
          "output_type": "stream",
          "name": "stdout",
          "text": [
            "Epoch 1/3\n",
            "782/782 [==============================] - 1057s 1s/step - loss: 0.3997 - accuracy: 0.8699 - val_loss: 0.1960 - val_accuracy: 0.9325\n",
            "Epoch 2/3\n",
            "782/782 [==============================] - 1038s 1s/step - loss: 0.1028 - accuracy: 0.9655 - val_loss: 0.1899 - val_accuracy: 0.9398\n",
            "Epoch 3/3\n",
            "782/782 [==============================] - 1034s 1s/step - loss: 0.0361 - accuracy: 0.9898 - val_loss: 0.1619 - val_accuracy: 0.9512\n"
          ]
        }
      ]
    },
    {
      "cell_type": "markdown",
      "source": [
        "Resolution .25x"
      ],
      "metadata": {
        "id": "nd-WBw3bB1Ti"
      }
    },
    {
      "cell_type": "code",
      "source": [
        "EPOCHS = 3\n",
        "history = model.fit(X_train,Y_train, epochs=EPOCHS, validation_data = (X_test, Y_test), batch_size=64)"
      ],
      "metadata": {
        "colab": {
          "base_uri": "https://localhost:8080/"
        },
        "id": "WQngrZ7xBLTJ",
        "outputId": "aedd4caa-fbc8-4281-e4c9-7b66b899f436"
      },
      "execution_count": null,
      "outputs": [
        {
          "output_type": "stream",
          "name": "stdout",
          "text": [
            "Epoch 1/3\n",
            "782/782 [==============================] - 540s 671ms/step - loss: 1.2210 - accuracy: 0.5647 - val_loss: 1.1539 - val_accuracy: 0.6034\n",
            "Epoch 2/3\n",
            "782/782 [==============================] - 527s 674ms/step - loss: 0.7666 - accuracy: 0.7322 - val_loss: 1.0454 - val_accuracy: 0.6410\n",
            "Epoch 3/3\n",
            "782/782 [==============================] - 526s 673ms/step - loss: 0.5480 - accuracy: 0.8116 - val_loss: 0.8817 - val_accuracy: 0.7067\n"
          ]
        }
      ]
    },
    {
      "cell_type": "markdown",
      "source": [
        "Resolution .125x"
      ],
      "metadata": {
        "id": "jMBCzm2ZOLNP"
      }
    },
    {
      "cell_type": "code",
      "source": [
        "EPOCHS = 3\n",
        "history = model.fit(X_train,Y_train, epochs=EPOCHS, validation_data = (X_test, Y_test), batch_size=64)"
      ],
      "metadata": {
        "colab": {
          "base_uri": "https://localhost:8080/"
        },
        "id": "Cbp--IsjOIta",
        "outputId": "f6a27d70-6218-4528-da87-24a829ee2da6"
      },
      "execution_count": null,
      "outputs": [
        {
          "output_type": "stream",
          "name": "stdout",
          "text": [
            "Epoch 1/3\n",
            "782/782 [==============================] - 1108s 1s/step - loss: 1.5569 - accuracy: 0.4403 - val_loss: 1.4497 - val_accuracy: 0.4745\n",
            "Epoch 2/3\n",
            "782/782 [==============================] - 1076s 1s/step - loss: 1.2669 - accuracy: 0.5473 - val_loss: 1.3750 - val_accuracy: 0.5127\n",
            "Epoch 3/3\n",
            "782/782 [==============================] - 1076s 1s/step - loss: 1.1160 - accuracy: 0.6042 - val_loss: 1.3710 - val_accuracy: 0.5218\n"
          ]
        }
      ]
    },
    {
      "cell_type": "code",
      "source": [
        "loss, accuracy = model.evaluate(X_test,Y_test, batch_size=64)"
      ],
      "metadata": {
        "colab": {
          "base_uri": "https://localhost:8080/"
        },
        "id": "NZHT-D0irrij",
        "outputId": "1abe1dbf-0bf1-42d1-ca15-870470255338"
      },
      "execution_count": null,
      "outputs": [
        {
          "output_type": "stream",
          "name": "stdout",
          "text": [
            "157/157 [==============================] - 55s 352ms/step - loss: 0.1619 - accuracy: 0.9512\n"
          ]
        }
      ]
    },
    {
      "cell_type": "code",
      "source": [
        "def model_compile2():\n",
        "  inputs = tf.keras.layers.Input(shape=(32,32,3))\n",
        "  \n",
        "  classification_output=final_model(inputs)\n",
        "  model = tf.keras.Model(inputs=inputs,outputs=classification_output)\n",
        "  model.compile(optimizer='SGD', \n",
        "                loss='sparse_categorical_crossentropy',\n",
        "                metrics = ['accuracy'])\n",
        "  \n",
        "  return model"
      ],
      "metadata": {
        "id": "m2KfyRqdIVUB"
      },
      "execution_count": null,
      "outputs": []
    },
    {
      "cell_type": "code",
      "source": [
        "model = model_compile2()\n",
        "\n",
        "model.summary()"
      ],
      "metadata": {
        "colab": {
          "base_uri": "https://localhost:8080/"
        },
        "id": "2xPAd0PhVXHl",
        "outputId": "c9fddd00-a421-47e5-c030-bfc809af2510"
      },
      "execution_count": null,
      "outputs": [
        {
          "output_type": "stream",
          "name": "stdout",
          "text": [
            "Model: \"model_2\"\n",
            "_________________________________________________________________\n",
            " Layer (type)                Output Shape              Param #   \n",
            "=================================================================\n",
            " input_6 (InputLayer)        [(None, 32, 32, 3)]       0         \n",
            "                                                                 \n",
            " average_pooling2d_1 (Averag  (None, 16, 16, 3)        0         \n",
            " ePooling2D)                                                     \n",
            "                                                                 \n",
            " up_sampling2d_2 (UpSampling  (None, 224, 224, 3)      0         \n",
            " 2D)                                                             \n",
            "                                                                 \n",
            " resnet50 (Functional)       (None, 7, 7, 2048)        23587712  \n",
            "                                                                 \n",
            " global_average_pooling2d_2   (None, 2048)             0         \n",
            " (GlobalAveragePooling2D)                                        \n",
            "                                                                 \n",
            " flatten_2 (Flatten)         (None, 2048)              0         \n",
            "                                                                 \n",
            " dense_4 (Dense)             (None, 1024)              2098176   \n",
            "                                                                 \n",
            " dense_5 (Dense)             (None, 512)               524800    \n",
            "                                                                 \n",
            " classification (Dense)      (None, 10)                5130      \n",
            "                                                                 \n",
            "=================================================================\n",
            "Total params: 26,215,818\n",
            "Trainable params: 26,162,698\n",
            "Non-trainable params: 53,120\n",
            "_________________________________________________________________\n"
          ]
        }
      ]
    },
    {
      "cell_type": "markdown",
      "source": [
        "Resolution .5x"
      ],
      "metadata": {
        "id": "PDR4qveRB7AK"
      }
    },
    {
      "cell_type": "code",
      "source": [
        "EPOCHS = 3\n",
        "history = model.fit(X_train,Y_train, epochs=EPOCHS, validation_data = (X_test, Y_test), batch_size=64)"
      ],
      "metadata": {
        "colab": {
          "base_uri": "https://localhost:8080/"
        },
        "id": "FGRLOk74VcQq",
        "outputId": "ca8315e1-72eb-4830-9f62-4188623e54db"
      },
      "execution_count": null,
      "outputs": [
        {
          "output_type": "stream",
          "name": "stdout",
          "text": [
            "Epoch 1/3\n",
            "782/782 [==============================] - 1034s 1s/step - loss: 0.7349 - accuracy: 0.7476 - val_loss: 0.5511 - val_accuracy: 0.8068\n",
            "Epoch 2/3\n",
            "782/782 [==============================] - 1055s 1s/step - loss: 0.2915 - accuracy: 0.9009 - val_loss: 0.4493 - val_accuracy: 0.8486\n",
            "Epoch 3/3\n",
            "782/782 [==============================] - 1030s 1s/step - loss: 0.1342 - accuracy: 0.9556 - val_loss: 0.4121 - val_accuracy: 0.8695\n"
          ]
        }
      ]
    },
    {
      "cell_type": "code",
      "source": [
        "from tensorflow.keras.applications.resnet import ResNet101"
      ],
      "metadata": {
        "id": "3bFYKdTEVhbZ"
      },
      "execution_count": null,
      "outputs": []
    },
    {
      "cell_type": "code",
      "source": [
        "(X_train,Y_train),(X_test,Y_test)=cifar10.load_data()"
      ],
      "metadata": {
        "id": "XtiLoBNricEC"
      },
      "execution_count": null,
      "outputs": []
    },
    {
      "cell_type": "code",
      "source": [
        "X_train=X_train.astype(\"float32\")\n",
        "X_test=X_test.astype(\"float32\")"
      ],
      "metadata": {
        "id": "ccwt6hesiwbo"
      },
      "execution_count": null,
      "outputs": []
    },
    {
      "cell_type": "code",
      "source": [
        "X_train=tf.keras.applications.resnet50.preprocess_input(X_train)\n",
        "X_test=tf.keras.applications.resnet50.preprocess_input(X_test)"
      ],
      "metadata": {
        "id": "56KsTfmSiz0v"
      },
      "execution_count": null,
      "outputs": []
    },
    {
      "cell_type": "code",
      "source": [
        "def feature_extraction(inputs):\n",
        "  feature_extractor = tf.keras.applications.resnet.ResNet101(input_shape=(224, 224, 3),\n",
        "                                               include_top=False,\n",
        "                                               weights='imagenet')(inputs)\n",
        "  return feature_extractor"
      ],
      "metadata": {
        "id": "mVjDexoFi68Z"
      },
      "execution_count": null,
      "outputs": []
    },
    {
      "cell_type": "code",
      "source": [
        "def classifier(inputs):\n",
        "  x=tf.keras.layers.GlobalAveragePooling2D()(inputs)\n",
        "  x = tf.keras.layers.Flatten()(x)\n",
        "  x=tf.keras.layers.Dense(1024,activation='relu')(x)\n",
        "  x=tf.keras.layers.Dense(512,activation='relu')(x)\n",
        "  x=tf.keras.layers.Dense(10,activation='softmax',name=\"classification\")(x)\n",
        "  return x"
      ],
      "metadata": {
        "id": "AiIdOwDkjkt_"
      },
      "execution_count": null,
      "outputs": []
    },
    {
      "cell_type": "code",
      "source": [
        "def final_model(inputs):\n",
        "\n",
        "    inputs = tf.keras.layers.AveragePooling2D(8)(inputs)\n",
        "    resize = tf.keras.layers.UpSampling2D(size=(56,56))(inputs)\n",
        "\n",
        "    resnet_feature_extractor = feature_extraction(resize)\n",
        "    classification_output = classifier(resnet_feature_extractor)\n",
        "\n",
        "    return classification_output"
      ],
      "metadata": {
        "id": "SP-NvoQxjoRu"
      },
      "execution_count": null,
      "outputs": []
    },
    {
      "cell_type": "code",
      "source": [
        "def model_compile():\n",
        "  inputs = tf.keras.layers.Input(shape=(32,32,3))\n",
        "  classification_output=final_model(inputs)\n",
        "  model = tf.keras.Model(inputs=inputs,outputs=classification_output)\n",
        "  model.compile(optimizer='SGD', \n",
        "                loss='sparse_categorical_crossentropy',\n",
        "                metrics = ['accuracy'])\n",
        "  \n",
        "  return model"
      ],
      "metadata": {
        "id": "7Z-5J3DCjtin"
      },
      "execution_count": null,
      "outputs": []
    },
    {
      "cell_type": "code",
      "source": [
        "model = model_compile()\n",
        "\n",
        "model.summary()"
      ],
      "metadata": {
        "colab": {
          "base_uri": "https://localhost:8080/"
        },
        "id": "31U_1kaDj4cr",
        "outputId": "41d7a878-2d83-4746-cd01-70ee9933033f"
      },
      "execution_count": null,
      "outputs": [
        {
          "output_type": "stream",
          "name": "stdout",
          "text": [
            "Downloading data from https://storage.googleapis.com/tensorflow/keras-applications/resnet/resnet101_weights_tf_dim_ordering_tf_kernels_notop.h5\n",
            "171450368/171446536 [==============================] - 2s 0us/step\n",
            "171458560/171446536 [==============================] - 2s 0us/step\n",
            "Model: \"model\"\n",
            "_________________________________________________________________\n",
            " Layer (type)                Output Shape              Param #   \n",
            "=================================================================\n",
            " input_1 (InputLayer)        [(None, 32, 32, 3)]       0         \n",
            "                                                                 \n",
            " average_pooling2d (AverageP  (None, 4, 4, 3)          0         \n",
            " ooling2D)                                                       \n",
            "                                                                 \n",
            " up_sampling2d (UpSampling2D  (None, 224, 224, 3)      0         \n",
            " )                                                               \n",
            "                                                                 \n",
            " resnet101 (Functional)      (None, 7, 7, 2048)        42658176  \n",
            "                                                                 \n",
            " global_average_pooling2d (G  (None, 2048)             0         \n",
            " lobalAveragePooling2D)                                          \n",
            "                                                                 \n",
            " flatten (Flatten)           (None, 2048)              0         \n",
            "                                                                 \n",
            " dense (Dense)               (None, 1024)              2098176   \n",
            "                                                                 \n",
            " dense_1 (Dense)             (None, 512)               524800    \n",
            "                                                                 \n",
            " classification (Dense)      (None, 10)                5130      \n",
            "                                                                 \n",
            "=================================================================\n",
            "Total params: 45,286,282\n",
            "Trainable params: 45,180,938\n",
            "Non-trainable params: 105,344\n",
            "_________________________________________________________________\n"
          ]
        }
      ]
    },
    {
      "cell_type": "markdown",
      "source": [
        "Resolution 1x"
      ],
      "metadata": {
        "id": "mKv3q03nJJrn"
      }
    },
    {
      "cell_type": "code",
      "source": [
        "EPOCHS = 3\n",
        "history = model.fit(X_train,Y_train, epochs=EPOCHS, validation_data = (X_test, Y_test), batch_size=64)"
      ],
      "metadata": {
        "colab": {
          "base_uri": "https://localhost:8080/"
        },
        "id": "Ou0aJIdvj9Rm",
        "outputId": "7a5b6ecf-eab0-463f-8955-966185e74d03"
      },
      "execution_count": null,
      "outputs": [
        {
          "output_type": "stream",
          "name": "stdout",
          "text": [
            "Epoch 1/3\n",
            "782/782 [==============================] - 1775s 2s/step - loss: 0.3584 - accuracy: 0.8851 - val_loss: 0.1709 - val_accuracy: 0.9403\n",
            "Epoch 2/3\n",
            "782/782 [==============================] - 1768s 2s/step - loss: 0.0731 - accuracy: 0.9763 - val_loss: 0.2327 - val_accuracy: 0.9308\n",
            "Epoch 3/3\n",
            "  4/782 [..............................] - ETA: 27:48 - loss: 0.0497 - accuracy: 0.9844"
          ]
        }
      ]
    },
    {
      "cell_type": "markdown",
      "source": [
        "Resolution .5x"
      ],
      "metadata": {
        "id": "DqYrA23FJL65"
      }
    },
    {
      "cell_type": "code",
      "source": [
        "EPOCHS = 3\n",
        "history = model.fit(X_train,Y_train, epochs=EPOCHS, validation_data = (X_test, Y_test), batch_size=64)"
      ],
      "metadata": {
        "id": "6y2TeNmCkQyk",
        "colab": {
          "base_uri": "https://localhost:8080/"
        },
        "outputId": "65bdf119-007a-45a9-ef12-0c2a24ab8b8a"
      },
      "execution_count": null,
      "outputs": [
        {
          "output_type": "stream",
          "name": "stdout",
          "text": [
            "Epoch 1/3\n",
            "782/782 [==============================] - 873s 1s/step - loss: 0.6862 - accuracy: 0.7635 - val_loss: 0.4550 - val_accuracy: 0.8419\n",
            "Epoch 2/3\n",
            "782/782 [==============================] - 858s 1s/step - loss: 0.2386 - accuracy: 0.9199 - val_loss: 0.4228 - val_accuracy: 0.8608\n",
            "Epoch 3/3\n",
            "782/782 [==============================] - 859s 1s/step - loss: 0.0913 - accuracy: 0.9711 - val_loss: 0.3223 - val_accuracy: 0.8986\n"
          ]
        }
      ]
    },
    {
      "cell_type": "markdown",
      "source": [
        "resolution .25"
      ],
      "metadata": {
        "id": "KykLXqJFJPee"
      }
    },
    {
      "cell_type": "code",
      "source": [
        "EPOCHS = 3\n",
        "history = model.fit(X_train,Y_train, epochs=EPOCHS, validation_data = (X_test, Y_test), batch_size=64)"
      ],
      "metadata": {
        "id": "HnCMAZb5kqms",
        "colab": {
          "base_uri": "https://localhost:8080/"
        },
        "outputId": "eebd91db-2ca8-444c-a88e-0a88d2d5f28b"
      },
      "execution_count": null,
      "outputs": [
        {
          "output_type": "stream",
          "name": "stdout",
          "text": [
            "Epoch 1/3\n",
            "782/782 [==============================] - 900s 1s/step - loss: 1.1596 - accuracy: 0.5891 - val_loss: 0.9314 - val_accuracy: 0.6709\n",
            "Epoch 2/3\n",
            "782/782 [==============================] - 890s 1s/step - loss: 0.6790 - accuracy: 0.7633 - val_loss: 0.7638 - val_accuracy: 0.7335\n",
            "Epoch 3/3\n",
            "782/782 [==============================] - 925s 1s/step - loss: 0.4319 - accuracy: 0.8503 - val_loss: 0.7701 - val_accuracy: 0.7386\n"
          ]
        }
      ]
    },
    {
      "cell_type": "markdown",
      "source": [
        "Resolution .125"
      ],
      "metadata": {
        "id": "xOWygJTSGcMs"
      }
    },
    {
      "cell_type": "code",
      "source": [
        "EPOCHS = 3\n",
        "history = model.fit(X_train,Y_train, epochs=EPOCHS, validation_data = (X_test, Y_test), batch_size=64)"
      ],
      "metadata": {
        "colab": {
          "base_uri": "https://localhost:8080/"
        },
        "id": "eafCcnOhJTj_",
        "outputId": "614a935e-0e38-4590-c7d9-23dfcebd4809"
      },
      "execution_count": null,
      "outputs": [
        {
          "output_type": "stream",
          "name": "stdout",
          "text": [
            "Epoch 1/3\n",
            "782/782 [==============================] - 1873s 2s/step - loss: 1.5325 - accuracy: 0.4464 - val_loss: 1.4438 - val_accuracy: 0.4781\n",
            "Epoch 2/3\n",
            "782/782 [==============================] - 1853s 2s/step - loss: 1.2239 - accuracy: 0.5637 - val_loss: 1.3335 - val_accuracy: 0.5285\n",
            "Epoch 3/3\n",
            "782/782 [==============================] - 1856s 2s/step - loss: 1.0484 - accuracy: 0.6279 - val_loss: 1.3251 - val_accuracy: 0.5392\n"
          ]
        }
      ]
    },
    {
      "cell_type": "code",
      "source": [
        ""
      ],
      "metadata": {
        "id": "xxua_dZYVQ95"
      },
      "execution_count": null,
      "outputs": []
    }
  ]
}